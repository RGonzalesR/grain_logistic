{
 "cells": [
  {
   "cell_type": "code",
   "execution_count": 0,
   "metadata": {
    "application/vnd.databricks.v1+cell": {
     "cellMetadata": {
      "byteLimit": 2048000,
      "rowLimit": 10000
     },
     "inputWidgets": {},
     "nuid": "7db41c58-e006-4b86-b991-4cd110d7f19f",
     "showTitle": false,
     "tableResultSettingsMap": {},
     "title": ""
    }
   },
   "outputs": [],
   "source": [
    "import yaml\n",
    "import sys\n",
    "from pyspark.sql import SparkSession\n",
    "\n",
    "def gerar_comments_para_colunas(tabela: str, yaml_path: str):\n",
    "    \"\"\"\n",
    "    Gera os comentários das colunas no Unity Catalog com base em um arquivo YAML.\n",
    "\n",
    "    Args:\n",
    "        tabela (str): Nome da tabela no Unity Catalog.\n",
    "        yaml_path (str): Caminho para o arquivo YAML contendo as definições das colunas.\n",
    "    \"\"\"\n",
    "    try:\n",
    "        with open(yaml_path, 'r') as file:\n",
    "            yaml_data = yaml.safe_load(file)\n",
    "\n",
    "        print(f\"{tabela}: YAML lido\")\n",
    "\n",
    "        if 'features' not in yaml_data:\n",
    "            raise ValueError(\"O arquivo YAML não contém a chave 'features'.\")\n",
    "\n",
    "        spark = SparkSession.builder.getOrCreate()\n",
    "\n",
    "        for feature in yaml_data['features']:\n",
    "            column_name = feature['name']\n",
    "            comment = feature['description']\n",
    "            print(f\"    Gerando comentário para a coluna {column_name}...\", end=\" \")\n",
    "\n",
    "            spark.sql(f\"COMMENT ON COLUMN {tabela}.`{column_name}` IS '{comment}'\")\n",
    "            print(\"Comentário gerado\")\n",
    "\n",
    "        print(f\"✅ Comentários gerados com sucesso para a tabela {tabela}.\")\n",
    "\n",
    "    except Exception as e:\n",
    "        print(f\"❌ Erro ao gerar comentários: {e}\")"
   ]
  },
  {
   "cell_type": "code",
   "execution_count": 0,
   "metadata": {
    "application/vnd.databricks.v1+cell": {
     "cellMetadata": {
      "byteLimit": 2048000,
      "rowLimit": 10000
     },
     "inputWidgets": {},
     "nuid": "135868ed-e6b1-4f26-b392-b3b76633b18b",
     "showTitle": false,
     "tableResultSettingsMap": {},
     "title": ""
    }
   },
   "outputs": [],
   "source": [
    "dict_tabelas = {\n",
    "    \"bronze.grain_logistic_shipping\": \"/Workspace/Users/renan.gonzales@usp.br/grain_logistic/bronze/bronze.yaml\",\n",
    "    \"silver.cliente\": \"/Workspace/Users/renan.gonzales@usp.br/grain_logistic/silver/cliente.yaml\",\n",
    "    \"silver.produto\": \"/Workspace/Users/renan.gonzales@usp.br/grain_logistic/silver/produto.yaml\",\n",
    "    \"silver.envios\": \"/Workspace/Users/renan.gonzales@usp.br/grain_logistic/silver/envio.yaml\",\n",
    "    \"gold.dim_calendario\": \"/Workspace/Users/renan.gonzales@usp.br/grain_logistic/gold/calendario.yaml\",\n",
    "    \"gold.dim_uf\": \"/Workspace/Users/renan.gonzales@usp.br/grain_logistic/gold/uf.yaml\",\n",
    "    \"gold.dim_importancia\": \"/Workspace/Users/renan.gonzales@usp.br/grain_logistic/gold/importancia.yaml\",\n",
    "    \"gold.fato_venda\": \"/Workspace/Users/renan.gonzales@usp.br/grain_logistic/gold/fato.yaml\",\n",
    "    \"gold.fs_historico_envios_corredor\": \"/Workspace/Users/renan.gonzales@usp.br/grain_logistic/feature_store/feature_store.yaml\",\n",
    "}\n",
    "\n",
    "for tabela, yaml_path in dict_tabelas.items():\n",
    "    gerar_comments_para_colunas(tabela, yaml_path)"
   ]
  }
 ],
 "metadata": {
  "application/vnd.databricks.v1+notebook": {
   "computePreferences": null,
   "dashboards": [],
   "environmentMetadata": {
    "base_environment": "",
    "environment_version": "2"
   },
   "inputWidgetPreferences": null,
   "language": "python",
   "notebookMetadata": {
    "pythonIndentUnit": 4
   },
   "notebookName": "documentacao_colunas",
   "widgets": {}
  },
  "language_info": {
   "name": "python"
  }
 },
 "nbformat": 4,
 "nbformat_minor": 0
}
